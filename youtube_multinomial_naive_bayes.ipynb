{
 "cells": [
  {
   "attachments": {
    "image.png": {
     "image/png": "[encoded data removed]"
    }
   },
   "cell_type": "markdown",
   "metadata": {},
   "source": [
    "![image.png](attachment:image.png)"
   ]
  },
  {
   "cell_type": "markdown",
   "metadata": {},
   "source": [
    "# Multinomial Naive Bayes"
   ]
  },
  {
   "cell_type": "code",
   "execution_count": 1,
   "metadata": {},
   "outputs": [
    {
     "data": {
      "text/html": [
       "<div>\n",
       "<style scoped>\n",
       "    .dataframe tbody tr th:only-of-type {\n",
       "        vertical-align: middle;\n",
       "    }\n",
       "\n",
       "    .dataframe tbody tr th {\n",
       "        vertical-align: top;\n",
       "    }\n",
       "\n",
       "    .dataframe thead th {\n",
       "        text-align: right;\n",
       "    }\n",
       "</style>\n",
       "<table border=\"1\" class=\"dataframe\">\n",
       "  <thead>\n",
       "    <tr style=\"text-align: right;\">\n",
       "      <th></th>\n",
       "      <th>Title</th>\n",
       "      <th>Category</th>\n",
       "    </tr>\n",
       "  </thead>\n",
       "  <tbody>\n",
       "    <tr>\n",
       "      <th>0</th>\n",
       "      <td>Fed official says weak data caused by weather,...</td>\n",
       "      <td>b</td>\n",
       "    </tr>\n",
       "    <tr>\n",
       "      <th>1</th>\n",
       "      <td>Fed's Charles Plosser sees high bar for change...</td>\n",
       "      <td>b</td>\n",
       "    </tr>\n",
       "    <tr>\n",
       "      <th>2</th>\n",
       "      <td>US open: Stocks fall after Fed official hints ...</td>\n",
       "      <td>b</td>\n",
       "    </tr>\n",
       "    <tr>\n",
       "      <th>3</th>\n",
       "      <td>Fed risks falling 'behind the curve', Fed Char...</td>\n",
       "      <td>b</td>\n",
       "    </tr>\n",
       "    <tr>\n",
       "      <th>4</th>\n",
       "      <td>Fed's Plosser: Nasty Weather Has Curbed Job Gr...</td>\n",
       "      <td>b</td>\n",
       "    </tr>\n",
       "  </tbody>\n",
       "</table>\n",
       "</div>"
      ],
      "text/plain": [
       "                                               Title Category\n",
       "0  Fed official says weak data caused by weather,...        b\n",
       "1  Fed's Charles Plosser sees high bar for change...        b\n",
       "2  US open: Stocks fall after Fed official hints ...        b\n",
       "3  Fed risks falling 'behind the curve', Fed Char...        b\n",
       "4  Fed's Plosser: Nasty Weather Has Curbed Job Gr...        b"
      ]
     },
     "execution_count": 1,
     "metadata": {},
     "output_type": "execute_result"
    }
   ],
   "source": [
    "import numpy as np\n",
    "#from sklearn.naive_bayes import MultinomialNB\n",
    "\n",
    "import pandas as pd\n",
    "\n",
    "df = pd.read_csv('sample_news.csv')\n",
    "df.head()\n",
    "\n"
   ]
  },
  {
   "cell_type": "code",
   "execution_count": 2,
   "metadata": {},
   "outputs": [
    {
     "data": {
      "text/plain": [
       "(77, 2)"
      ]
     },
     "execution_count": 2,
     "metadata": {},
     "output_type": "execute_result"
    }
   ],
   "source": [
    "df.shape"
   ]
  },
  {
   "cell_type": "code",
   "execution_count": 3,
   "metadata": {},
   "outputs": [
    {
     "data": {
      "text/plain": [
       "b    31\n",
       "e    24\n",
       "t    22\n",
       "Name: Category, dtype: int64"
      ]
     },
     "execution_count": 3,
     "metadata": {},
     "output_type": "execute_result"
    }
   ],
   "source": [
    "df['Category'].value_counts() # b- business, t- technology, e-entertainment"
   ]
  },
  {
   "attachments": {
    "image.png": {
     "image/png": "[encoded data removed]"
    }
   },
   "cell_type": "markdown",
   "metadata": {},
   "source": [
    "![image.png](attachment:image.png)"
   ]
  },
  {
   "cell_type": "markdown",
   "metadata": {},
   "source": [
    "# Basics of NLP"
   ]
  },
  {
   "cell_type": "code",
   "execution_count": 4,
   "metadata": {},
   "outputs": [
    {
     "name": "stdout",
     "output_type": "stream",
     "text": [
      "['Piford', 'Technologies', 'is', 'a', 'Software', 'Development', 'company', '.', 'Piford', 'also', 'provide', 'trainings', '.']\n"
     ]
    }
   ],
   "source": [
    "import nltk\n",
    "#nltk.download()\n",
    "from nltk import word_tokenize\n",
    " \n",
    "data = \"Piford Technologies is a Software Development company. Piford also provide trainings.\"\n",
    "print(word_tokenize(data))"
   ]
  },
  {
   "cell_type": "code",
   "execution_count": 5,
   "metadata": {},
   "outputs": [
    {
     "name": "stdout",
     "output_type": "stream",
     "text": [
      "{'not', 'have', 'when', 'them', 'with', 'didn', \"haven't\", 'against', 'or', 'me', 'which', 'those', 'wouldn', 'down', 'too', 'during', 've', 'do', 're', 'is', \"that'll\", 'won', 't', 'here', 'only', 'himself', 'its', 'below', 'ain', 'mightn', 'i', 'had', \"mightn't\", 'm', 'most', 'just', 'such', 'you', 'up', 'doesn', \"shan't\", 'herself', 'shan', 'all', 'again', 'now', 'y', \"you're\", 'this', \"she's\", 'own', 'on', 'under', 'ourselves', 'weren', 'how', 'does', 'if', 'why', 'where', 'we', 'each', 'into', \"wouldn't\", 'an', 'd', 'her', 'over', 'isn', 'out', 'couldn', 'ours', \"you'd\", 'myself', 'wasn', 'being', 'at', 'above', 'needn', 'about', 'both', \"hasn't\", 'yourself', 'theirs', 'what', 'no', 'these', 'so', \"isn't\", \"wasn't\", 'very', 'of', 'as', 'once', 'than', 'other', \"don't\", 'further', 'hers', 'after', 'there', 'through', 'themselves', 'she', 'was', 'll', 'yours', \"didn't\", \"won't\", 'any', 'the', 'it', 'itself', \"should've\", 'for', \"needn't\", \"shouldn't\", 'hadn', 'until', 'will', 'hasn', 'having', 'am', 'while', 'o', 'and', 'are', 'aren', \"it's\", 'him', 'were', \"hadn't\", 'should', 'ma', \"weren't\", 'from', 'haven', 'don', 'shouldn', 'our', 'did', 'off', 'then', 'has', 'they', 'my', 'your', 'because', 'can', 'be', 'but', 's', 'few', \"mustn't\", 'before', 'more', \"doesn't\", 'their', 'who', 'that', 'his', \"you've\", 'by', 'nor', 'some', 'in', 'a', 'yourselves', 'same', \"aren't\", 'mustn', 'between', \"you'll\", 'to', 'whom', 'doing', 'been', \"couldn't\", 'he'}\n"
     ]
    }
   ],
   "source": [
    "from nltk.corpus import stopwords\n",
    "\n",
    "stopWords = set(stopwords.words('english'))\n",
    "print(stopWords)\n"
   ]
  },
  {
   "attachments": {
    "image.png": {
     "image/png": "[encoded data removed]"
    }
   },
   "cell_type": "markdown",
   "metadata": {},
   "source": [
    "![image.png](attachment:image.png)"
   ]
  },
  {
   "cell_type": "code",
   "execution_count": 6,
   "metadata": {},
   "outputs": [
    {
     "name": "stdout",
     "output_type": "stream",
     "text": [
      "['P', 'i', 'f', 'o', 'r', 'd', 's', ' ', 'T', 'e', 'c', 'h', 'n', 'o', 'l', 'o', 'g', 'i', 'e', 's', ' ', 'P', 'i', 'f', 'o', 'r', 'd', ' ', 'i', 's', ' ', 'i', 'n', ' ', 'M', 'o', 'h', 'a', 'l', 'i', ' ']\n"
     ]
    }
   ],
   "source": [
    "import string\n",
    "data = \"Piford's Technologies, Piford is in Mohali !.\"\n",
    "data_1=[char for char in data if char not in string.punctuation]\n",
    "print(data_1)\n"
   ]
  },
  {
   "cell_type": "code",
   "execution_count": 7,
   "metadata": {},
   "outputs": [
    {
     "name": "stdout",
     "output_type": "stream",
     "text": [
      "Pifords Technologies Piford is in Mohali \n"
     ]
    }
   ],
   "source": [
    "data_1=''.join(data_1)\n",
    "print(data_1)"
   ]
  },
  {
   "cell_type": "code",
   "execution_count": 8,
   "metadata": {},
   "outputs": [
    {
     "name": "stdout",
     "output_type": "stream",
     "text": [
      "['Pifords', 'Technologies', 'Piford', 'is', 'in', 'Mohali']\n"
     ]
    }
   ],
   "source": [
    "data_1=data_1.split()  #word_tokenize(data)\n",
    "print(data_1)"
   ]
  },
  {
   "attachments": {
    "image.png": {
     "image/png": "[encoded data removed]"
    }
   },
   "cell_type": "markdown",
   "metadata": {},
   "source": [
    "![image.png](attachment:image.png)"
   ]
  },
  {
   "cell_type": "code",
   "execution_count": 9,
   "metadata": {},
   "outputs": [
    {
     "name": "stdout",
     "output_type": "stream",
     "text": [
      "{'piford': 3, 'technologies': 4, 'is': 1, 'in': 0, 'mohali': 2}\n"
     ]
    }
   ],
   "source": [
    "from sklearn.feature_extraction.text import CountVectorizer\n",
    "data_1 = [\"Piford Technologies Piford is in Mohali.\"]\n",
    "\n",
    "# create the transform\n",
    "vectorizer = CountVectorizer()\n",
    "\n",
    "vectorizer.fit(data_1)\n",
    "\n",
    "\n",
    "print(vectorizer.vocabulary_)  "
   ]
  },
  {
   "cell_type": "code",
   "execution_count": 10,
   "metadata": {},
   "outputs": [
    {
     "name": "stdout",
     "output_type": "stream",
     "text": [
      "  (0, 0)\t1\n",
      "  (0, 1)\t1\n",
      "  (0, 2)\t1\n",
      "  (0, 3)\t2\n",
      "  (0, 4)\t1\n"
     ]
    }
   ],
   "source": [
    "\"\"\"encode document\"\"\"\n",
    "vector = vectorizer.transform(data_1)\n",
    "print(vector)"
   ]
  },
  {
   "cell_type": "code",
   "execution_count": 11,
   "metadata": {},
   "outputs": [],
   "source": [
    "def text_cleaning(a):\n",
    " remove_punctuation = [char for char in a if char not in string.punctuation]\n",
    " #print(remove_punctuation)\n",
    " remove_punctuation=''.join(remove_punctuation)\n",
    " #print(remove_punctuation)   \n",
    " return [word for word in remove_punctuation.split() if word.lower() not in stopwords.words('english')]\n"
   ]
  },
  {
   "cell_type": "code",
   "execution_count": 12,
   "metadata": {
    "scrolled": true
   },
   "outputs": [
    {
     "data": {
      "text/html": [
       "<div>\n",
       "<style scoped>\n",
       "    .dataframe tbody tr th:only-of-type {\n",
       "        vertical-align: middle;\n",
       "    }\n",
       "\n",
       "    .dataframe tbody tr th {\n",
       "        vertical-align: top;\n",
       "    }\n",
       "\n",
       "    .dataframe thead th {\n",
       "        text-align: right;\n",
       "    }\n",
       "</style>\n",
       "<table border=\"1\" class=\"dataframe\">\n",
       "  <thead>\n",
       "    <tr style=\"text-align: right;\">\n",
       "      <th></th>\n",
       "      <th>Title</th>\n",
       "      <th>Category</th>\n",
       "    </tr>\n",
       "  </thead>\n",
       "  <tbody>\n",
       "    <tr>\n",
       "      <th>0</th>\n",
       "      <td>Fed official says weak data caused by weather,...</td>\n",
       "      <td>b</td>\n",
       "    </tr>\n",
       "    <tr>\n",
       "      <th>1</th>\n",
       "      <td>Fed's Charles Plosser sees high bar for change...</td>\n",
       "      <td>b</td>\n",
       "    </tr>\n",
       "    <tr>\n",
       "      <th>2</th>\n",
       "      <td>US open: Stocks fall after Fed official hints ...</td>\n",
       "      <td>b</td>\n",
       "    </tr>\n",
       "    <tr>\n",
       "      <th>3</th>\n",
       "      <td>Fed risks falling 'behind the curve', Fed Char...</td>\n",
       "      <td>b</td>\n",
       "    </tr>\n",
       "    <tr>\n",
       "      <th>4</th>\n",
       "      <td>Fed's Plosser: Nasty Weather Has Curbed Job Gr...</td>\n",
       "      <td>b</td>\n",
       "    </tr>\n",
       "  </tbody>\n",
       "</table>\n",
       "</div>"
      ],
      "text/plain": [
       "                                               Title Category\n",
       "0  Fed official says weak data caused by weather,...        b\n",
       "1  Fed's Charles Plosser sees high bar for change...        b\n",
       "2  US open: Stocks fall after Fed official hints ...        b\n",
       "3  Fed risks falling 'behind the curve', Fed Char...        b\n",
       "4  Fed's Plosser: Nasty Weather Has Curbed Job Gr...        b"
      ]
     },
     "execution_count": 12,
     "metadata": {},
     "output_type": "execute_result"
    }
   ],
   "source": [
    "df.head()"
   ]
  },
  {
   "cell_type": "code",
   "execution_count": 13,
   "metadata": {},
   "outputs": [
    {
     "name": "stdout",
     "output_type": "stream",
     "text": [
      "0     [Fed, official, says, weak, data, caused, weat...\n",
      "1     [Feds, Charles, Plosser, sees, high, bar, chan...\n",
      "2     [US, open, Stocks, fall, Fed, official, hints,...\n",
      "3     [Fed, risks, falling, behind, curve, Fed, Char...\n",
      "4     [Feds, Plosser, Nasty, Weather, Curbed, Job, G...\n",
      "                            ...                        \n",
      "72                           [Final, 2013, Q4, GDP, 26]\n",
      "73            [US, fourthquarter, growth, higher, 26pc]\n",
      "74    [US, economic, growth, better, thought, fourth...\n",
      "75    [US, fourthquarter, growth, raised, jobless, c...\n",
      "76        [US, economic, growth, 4Q, revised, slightly]\n",
      "Name: Title, Length: 77, dtype: object\n"
     ]
    }
   ],
   "source": [
    "print(df.iloc[:,0].apply(text_cleaning))#data after removing punctuation and stop words\n"
   ]
  },
  {
   "attachments": {
    "image.png": {
     "image/png": "[encoded data removed]"
    }
   },
   "cell_type": "markdown",
   "metadata": {},
   "source": [
    "![image.png](attachment:image.png)"
   ]
  },
  {
   "cell_type": "code",
   "execution_count": 14,
   "metadata": {},
   "outputs": [
    {
     "data": {
      "text/plain": [
       "{'Fed': 43,\n",
       " 'official': 213,\n",
       " 'says': 230,\n",
       " 'weak': 253,\n",
       " 'data': 178,\n",
       " 'caused': 170,\n",
       " 'weather': 254,\n",
       " 'slow': 237,\n",
       " 'taper': 244,\n",
       " 'Feds': 44,\n",
       " 'Charles': 27,\n",
       " 'Plosser': 100,\n",
       " 'sees': 231,\n",
       " 'high': 194,\n",
       " 'bar': 164,\n",
       " 'change': 171,\n",
       " 'pace': 215,\n",
       " 'tapering': 245,\n",
       " 'US': 145,\n",
       " 'open': 214,\n",
       " 'Stocks': 131,\n",
       " 'fall': 184,\n",
       " 'hints': 196,\n",
       " 'accelerated': 158,\n",
       " 'risks': 227,\n",
       " 'falling': 185,\n",
       " 'behind': 165,\n",
       " 'curve': 177,\n",
       " 'Nasty': 88,\n",
       " 'Weather': 149,\n",
       " 'Curbed': 30,\n",
       " 'Job': 70,\n",
       " 'Growth': 56,\n",
       " 'May': 81,\n",
       " 'Accelerate': 12,\n",
       " 'Tapering': 135,\n",
       " 'Pace': 96,\n",
       " 'Taper': 134,\n",
       " 'may': 210,\n",
       " 'expects': 182,\n",
       " 'unemployment': 248,\n",
       " '62': 10,\n",
       " 'end': 181,\n",
       " '2014': 3,\n",
       " 'jobs': 201,\n",
       " 'growth': 191,\n",
       " 'last': 203,\n",
       " 'month': 211,\n",
       " 'hit': 197,\n",
       " 'weatherFed': 255,\n",
       " 'President': 104,\n",
       " 'ECB': 37,\n",
       " 'unlikely': 249,\n",
       " 'sterilisation': 240,\n",
       " 'SMP': 118,\n",
       " 'purchases': 220,\n",
       " 'traders': 247,\n",
       " 'George': 53,\n",
       " 'Zimmerman': 156,\n",
       " 'Armed': 17,\n",
       " 'Life': 75,\n",
       " 'Move': 86,\n",
       " 'Signs': 125,\n",
       " 'Autographs': 19,\n",
       " 'Florida': 47,\n",
       " 'Gun': 58,\n",
       " 'Show': 122,\n",
       " 'Signed': 123,\n",
       " 'Orlando': 94,\n",
       " 'â€”': 256,\n",
       " '20': 1,\n",
       " 'back': 163,\n",
       " 'controversy': 175,\n",
       " 'signs': 235,\n",
       " 'autographs': 161,\n",
       " 'gun': 192,\n",
       " 'show': 234,\n",
       " 'Fails': 41,\n",
       " 'Cash': 25,\n",
       " 'Murder': 87,\n",
       " 'Meet': 82,\n",
       " 'Homeless': 63,\n",
       " 'Kill': 72,\n",
       " 'Special': 127,\n",
       " 'Guest': 57,\n",
       " 'Weekend': 150,\n",
       " 'Honor': 64,\n",
       " 'fails': 183,\n",
       " 'make': 209,\n",
       " 'killing': 202,\n",
       " 'Image': 66,\n",
       " 'Signing': 124,\n",
       " 'Everything': 40,\n",
       " 'Thats': 136,\n",
       " 'switches': 243,\n",
       " 'venues': 251,\n",
       " 'World': 152,\n",
       " 'Getting': 55,\n",
       " 'Wrong': 153,\n",
       " 'Zimmermans': 157,\n",
       " 'bloody': 167,\n",
       " 'autograph': 160,\n",
       " 'poses': 217,\n",
       " 'pictures': 216,\n",
       " 'supporters': 242,\n",
       " 'Like': 76,\n",
       " 'Hes': 61,\n",
       " 'Hero': 60,\n",
       " 'VIDEO': 147,\n",
       " 'Celebrity': 26,\n",
       " 'America': 16,\n",
       " 'Says': 119,\n",
       " 'Theres': 137,\n",
       " 'Need': 90,\n",
       " 'Titanfall': 139,\n",
       " 'Review': 114,\n",
       " 'Roundup': 117,\n",
       " 'review': 225,\n",
       " 'buddy': 169,\n",
       " 'Respawn': 112,\n",
       " 'Titanfalls': 140,\n",
       " 'server': 232,\n",
       " 'stability': 239,\n",
       " 'Microsofts': 84,\n",
       " 'azure': 162,\n",
       " 'hands': 193,\n",
       " 'Resolution': 111,\n",
       " 'Likely': 77,\n",
       " 'Increased': 68,\n",
       " 'Patch': 97,\n",
       " 'Xbox': 154,\n",
       " 'One': 93,\n",
       " 'Bundle': 21,\n",
       " 'Release': 109,\n",
       " 'Date': 31,\n",
       " 'Tomorrow': 141,\n",
       " 'PreOrder': 103,\n",
       " 'Price': 105,\n",
       " 'Increase': 67,\n",
       " 'Launch': 73,\n",
       " 'LiveAction': 78,\n",
       " 'Adaptation': 14,\n",
       " 'Development': 32,\n",
       " 'Trailer': 142,\n",
       " 'Revealed': 113,\n",
       " 'Fans': 42,\n",
       " 'South': 126,\n",
       " 'Africa': 15,\n",
       " 'Ask': 18,\n",
       " 'EA': 36,\n",
       " 'Let': 74,\n",
       " 'Play': 99,\n",
       " 'likely': 207,\n",
       " 'get': 189,\n",
       " 'resolution': 224,\n",
       " 'increase': 199,\n",
       " 'launches': 204,\n",
       " 'Tuesday': 143,\n",
       " 'Microsoft': 83,\n",
       " 'hopes': 198,\n",
       " 'boost': 168,\n",
       " 'sales': 229,\n",
       " 'UK': 144,\n",
       " 'Drop': 35,\n",
       " 'Hopes': 65,\n",
       " 'Shoot': 121,\n",
       " 'PS4': 95,\n",
       " '792p': 11,\n",
       " 'Still': 130,\n",
       " 'Get': 54,\n",
       " '1080p': 0,\n",
       " 'PostRelease': 102,\n",
       " 'could': 176,\n",
       " 'game': 188,\n",
       " 'changer': 172,\n",
       " 'Midnight': 85,\n",
       " 'Locations': 79,\n",
       " 'Gamestop': 52,\n",
       " 'Best': 20,\n",
       " 'Buy': 22,\n",
       " 'Offering': 92,\n",
       " 'runs': 228,\n",
       " 'postlaunch': 218,\n",
       " 'Releases': 110,\n",
       " 'Critically': 29,\n",
       " 'Acclaimed': 13,\n",
       " 'FirstPerson': 46,\n",
       " 'launching': 205,\n",
       " 'Post': 101,\n",
       " 'ships': 233,\n",
       " 'postrelease': 219,\n",
       " 'wallpapers': 252,\n",
       " 'Windows': 151,\n",
       " 'Phone': 98,\n",
       " 'Standby': 129,\n",
       " 'Talk': 133,\n",
       " 'CEO': 23,\n",
       " 'Vince': 148,\n",
       " 'Zampella': 155,\n",
       " 'Economic': 38,\n",
       " 'fourth': 186,\n",
       " 'quarter': 222,\n",
       " 'revised': 226,\n",
       " 'higher': 195,\n",
       " 'GDP': 51,\n",
       " 'Q4': 106,\n",
       " 'Third': 138,\n",
       " 'Estimate': 39,\n",
       " '26': 5,\n",
       " '24': 4,\n",
       " 'Second': 120,\n",
       " 'Dow': 33,\n",
       " 'Revised': 115,\n",
       " '4Q': 7,\n",
       " 'Higher': 62,\n",
       " 'FourthQuarter': 49,\n",
       " 'Raised': 107,\n",
       " 'Jobless': 71,\n",
       " 'Claims': 28,\n",
       " 'Near': 89,\n",
       " 'FourMonth': 48,\n",
       " 'Low': 80,\n",
       " 'annualised': 159,\n",
       " '2013': 2,\n",
       " 'economic': 179,\n",
       " 'OctDec': 91,\n",
       " 'qtr': 221,\n",
       " 'upward': 250,\n",
       " 'economy': 180,\n",
       " 'grew': 190,\n",
       " 'Stronger': 132,\n",
       " 'consumer': 174,\n",
       " 'spending': 238,\n",
       " 'lifts': 206,\n",
       " '4Q2013': 8,\n",
       " 'Upward': 146,\n",
       " 'Rate': 108,\n",
       " 'Initial': 69,\n",
       " 'Health': 59,\n",
       " 'Care': 24,\n",
       " 'Spending': 128,\n",
       " 'Drives': 34,\n",
       " 'Revision': 116,\n",
       " 'Fourthquarter': 50,\n",
       " 'stilltepid': 241,\n",
       " 'Final': 45,\n",
       " 'fourthquarter': 187,\n",
       " '26pc': 6,\n",
       " 'better': 166,\n",
       " 'thought': 246,\n",
       " 'raised': 223,\n",
       " 'jobless': 200,\n",
       " 'claims': 173,\n",
       " 'near': 212,\n",
       " '4month': 9,\n",
       " 'low': 208,\n",
       " 'slightly': 236}"
      ]
     },
     "execution_count": 14,
     "metadata": {},
     "output_type": "execute_result"
    }
   ],
   "source": [
    "\n",
    "from sklearn.feature_extraction.text import CountVectorizer\n",
    "bow_transformer = CountVectorizer(analyzer=text_cleaning).fit(df['Title']) \n",
    "  \n",
    "#print(len(bow_transformer.vocabulary_))   \n",
    "bow_transformer.vocabulary_"
   ]
  },
  {
   "cell_type": "code",
   "execution_count": 15,
   "metadata": {},
   "outputs": [
    {
     "name": "stdout",
     "output_type": "stream",
     "text": [
      "  (0, 43)\t1\n",
      "  (0, 170)\t1\n",
      "  (0, 178)\t1\n",
      "  (0, 213)\t1\n",
      "  (0, 230)\t1\n",
      "  (0, 237)\t1\n",
      "  (0, 244)\t1\n",
      "  (0, 253)\t1\n",
      "  (0, 254)\t1\n",
      "  (1, 27)\t1\n",
      "  (1, 44)\t1\n",
      "  (1, 100)\t1\n",
      "  (1, 164)\t1\n",
      "  (1, 171)\t1\n",
      "  (1, 194)\t1\n",
      "  (1, 215)\t1\n",
      "  (1, 231)\t1\n",
      "  (1, 245)\t1\n",
      "  (2, 43)\t1\n",
      "  (2, 131)\t1\n",
      "  (2, 145)\t1\n",
      "  (2, 158)\t1\n",
      "  (2, 184)\t1\n",
      "  (2, 196)\t1\n",
      "  (2, 213)\t1\n",
      "  :\t:\n",
      "  (73, 191)\t1\n",
      "  (73, 195)\t1\n",
      "  (74, 2)\t1\n",
      "  (74, 145)\t1\n",
      "  (74, 166)\t1\n",
      "  (74, 179)\t1\n",
      "  (74, 186)\t1\n",
      "  (74, 191)\t1\n",
      "  (74, 222)\t1\n",
      "  (74, 246)\t1\n",
      "  (75, 9)\t1\n",
      "  (75, 145)\t1\n",
      "  (75, 173)\t1\n",
      "  (75, 187)\t1\n",
      "  (75, 191)\t1\n",
      "  (75, 200)\t1\n",
      "  (75, 208)\t1\n",
      "  (75, 212)\t1\n",
      "  (75, 223)\t1\n",
      "  (76, 7)\t1\n",
      "  (76, 145)\t1\n",
      "  (76, 179)\t1\n",
      "  (76, 191)\t1\n",
      "  (76, 226)\t1\n",
      "  (76, 236)\t1\n"
     ]
    }
   ],
   "source": [
    "title_bow = bow_transformer.transform(df['Title'])\n",
    "\n",
    "print(title_bow)"
   ]
  },
  {
   "attachments": {
    "image.png": {
     "image/png": "[encoded data removed]"
    }
   },
   "cell_type": "markdown",
   "metadata": {},
   "source": [
    "![image.png](attachment:image.png)"
   ]
  },
  {
   "cell_type": "code",
   "execution_count": 16,
   "metadata": {},
   "outputs": [
    {
     "name": "stdout",
     "output_type": "stream",
     "text": [
      "[[0 0 0 ... 1 0 0]\n",
      " [0 0 0 ... 0 0 0]\n",
      " [0 0 0 ... 0 0 0]\n",
      " ...\n",
      " [0 0 1 ... 0 0 0]\n",
      " [0 0 0 ... 0 0 0]\n",
      " [0 0 0 ... 0 0 0]]\n"
     ]
    },
    {
     "data": {
      "text/plain": [
       "(77, 257)"
      ]
     },
     "execution_count": 16,
     "metadata": {},
     "output_type": "execute_result"
    }
   ],
   "source": [
    "X = title_bow.toarray()\n",
    "print(X)\n",
    "\n",
    " \n",
    "X.shape  # 77,257  # 257 seperate words in our dataset and 77 rows"
   ]
  },
  {
   "attachments": {
    "image.png": {
     "image/png": "[encoded data removed]"
    }
   },
   "cell_type": "markdown",
   "metadata": {},
   "source": [
    "![image.png](attachment:image.png)"
   ]
  },
  {
   "cell_type": "code",
   "execution_count": 17,
   "metadata": {},
   "outputs": [
    {
     "name": "stdout",
     "output_type": "stream",
     "text": [
      "TfidfTransformer(norm='l2', smooth_idf=True, sublinear_tf=False, use_idf=True)\n",
      "  (0, 254)\t0.35272058888222585\n",
      "  (0, 253)\t0.35272058888222585\n",
      "  (0, 244)\t0.35272058888222585\n",
      "  (0, 237)\t0.322053921953571\n",
      "  (0, 230)\t0.30029557549957614\n",
      "  (0, 213)\t0.322053921953571\n",
      "  (0, 178)\t0.35272058888222585\n",
      "  (0, 170)\t0.35272058888222585\n",
      "  (0, 43)\t0.2834184908168553\n",
      "  (1, 245)\t0.33269962216828936\n",
      "  (1, 231)\t0.36437999556177075\n",
      "  (1, 215)\t0.33269962216828936\n",
      "  (1, 194)\t0.36437999556177075\n",
      "  (1, 171)\t0.36437999556177075\n",
      "  (1, 164)\t0.36437999556177075\n",
      "  (1, 100)\t0.2560640835009976\n",
      "  (1, 44)\t0.29278707192352826\n",
      "  (1, 27)\t0.31022203953138416\n",
      "  (2, 245)\t0.33475492468168067\n",
      "  (2, 214)\t0.36663100839979795\n",
      "  (2, 213)\t0.33475492468168067\n",
      "  (2, 196)\t0.36663100839979795\n",
      "  (2, 184)\t0.33475492468168067\n",
      "  (2, 158)\t0.36663100839979795\n",
      "  (2, 145)\t0.19838736221232084\n",
      "  :\t:\n",
      "  (73, 145)\t0.3048164290405196\n",
      "  (73, 6)\t0.5633179125409563\n",
      "  (74, 246)\t0.43227072692662877\n",
      "  (74, 222)\t0.3680221421874401\n",
      "  (74, 191)\t0.26619054465142056\n",
      "  (74, 186)\t0.3680221421874401\n",
      "  (74, 179)\t0.3304391293906092\n",
      "  (74, 166)\t0.43227072692662877\n",
      "  (74, 145)\t0.23390560894146015\n",
      "  (74, 2)\t0.34733871770314384\n",
      "  (75, 223)\t0.36501027091511934\n",
      "  (75, 212)\t0.36501027091511934\n",
      "  (75, 208)\t0.36501027091511934\n",
      "  (75, 200)\t0.36501027091511934\n",
      "  (75, 191)\t0.22477183109082\n",
      "  (75, 187)\t0.33327509934726507\n",
      "  (75, 173)\t0.36501027091511934\n",
      "  (75, 145)\t0.1975103664671235\n",
      "  (75, 9)\t0.36501027091511934\n",
      "  (76, 236)\t0.5332983328668586\n",
      "  (76, 226)\t0.3900394991103928\n",
      "  (76, 191)\t0.3284029309521553\n",
      "  (76, 179)\t0.4076672923723079\n",
      "  (76, 145)\t0.2885725623467003\n",
      "  (76, 7)\t0.4540339714467059\n",
      "(77, 257)\n"
     ]
    }
   ],
   "source": [
    "\n",
    "# TF-IDF Algo -term frequency-inverse document frequency to know the most significant words\n",
    "\n",
    "from sklearn.feature_extraction.text import TfidfTransformer\n",
    "tfidf_transformer=TfidfTransformer().fit(title_bow)\n",
    "print(tfidf_transformer)\n",
    "\n",
    "title_tfidf=tfidf_transformer.transform(title_bow)\n",
    "print(title_tfidf)# got tfidf values for whole vocabulary\n",
    "print(title_tfidf.shape)   #(77, 257)\n"
   ]
  },
  {
   "attachments": {
    "image.png": {
     "image/png": "[encoded data removed]"
    }
   },
   "cell_type": "markdown",
   "metadata": {},
   "source": [
    "![image.png](attachment:image.png)"
   ]
  },
  {
   "cell_type": "code",
   "execution_count": 18,
   "metadata": {},
   "outputs": [],
   "source": [
    "from sklearn.naive_bayes import MultinomialNB\n",
    "model = MultinomialNB().fit(title_tfidf,df['Category'])\n"
   ]
  },
  {
   "cell_type": "code",
   "execution_count": 19,
   "metadata": {},
   "outputs": [
    {
     "name": "stdout",
     "output_type": "stream",
     "text": [
      "['b' 'b' 'b' 'b' 'b' 'b' 'b' 'b' 'b' 'b' 'e' 'e' 'e' 'e' 'e' 'e' 'e' 'e'\n",
      " 'e' 'e' 'e' 'e' 'e' 'e' 'e' 'e' 'e' 'e' 'e' 'e' 'e' 'e' 'e' 'e' 't' 't'\n",
      " 't' 't' 't' 't' 't' 't' 't' 't' 't' 't' 't' 't' 't' 't' 't' 't' 't' 't'\n",
      " 't' 't' 'b' 'b' 'b' 'b' 'b' 'b' 'b' 'b' 'b' 'b' 'b' 'b' 'b' 'b' 'b' 'b'\n",
      " 'b' 'b' 'b' 'b' 'b']\n"
     ]
    }
   ],
   "source": [
    "all_predictions = model.predict(title_tfidf)\n",
    "print(all_predictions)"
   ]
  },
  {
   "cell_type": "code",
   "execution_count": 20,
   "metadata": {},
   "outputs": [
    {
     "data": {
      "text/plain": [
       "array([[31,  0,  0],\n",
       "       [ 0, 24,  0],\n",
       "       [ 0,  0, 22]], dtype=int64)"
      ]
     },
     "execution_count": 20,
     "metadata": {},
     "output_type": "execute_result"
    }
   ],
   "source": [
    "#Printing the confusion matrix of our prediction\n",
    "from sklearn.metrics import confusion_matrix\n",
    "\n",
    "confusion_matrix(df['Category'], all_predictions)"
   ]
  },
  {
   "cell_type": "code",
   "execution_count": null,
   "metadata": {},
   "outputs": [],
   "source": []
  }
 ],
 "metadata": {
  "kernelspec": {
   "display_name": "Python 3",
   "language": "python",
   "name": "python3"
  },
  "language_info": {
   "codemirror_mode": {
    "name": "ipython",
    "version": 3
   },
   "file_extension": ".py",
   "mimetype": "text/x-python",
   "name": "python",
   "nbconvert_exporter": "python",
   "pygments_lexer": "ipython3",
   "version": "3.6.8"
  }
 },
 "nbformat": 4,
 "nbformat_minor": 2
}
