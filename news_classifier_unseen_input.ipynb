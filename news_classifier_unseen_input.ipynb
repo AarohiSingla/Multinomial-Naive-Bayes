{
 "cells": [
  {
   "cell_type": "markdown",
   "metadata": {},
   "source": [
    "<h1>NEWS HEADLINE CLASSIFICATION</h1>  \n",
    "\n",
    "<p>In this notebook we will try to classify news using <b>MULTINOMIAL NAIVE BAYES</b>. We will convert text into vector by using <b>Bag Of Words</b> model."
   ]
  },
  {
   "cell_type": "code",
   "execution_count": 64,
   "metadata": {
    "scrolled": true
   },
   "outputs": [],
   "source": [
    "##Loading all the required libraries\n",
    "import pandas as pd\n",
    "import numpy as np\n",
    "\n",
    "from sklearn.naive_bayes import MultinomialNB\n",
    "\n",
    "from sklearn.feature_extraction.text import CountVectorizer\n",
    "from sklearn.model_selection import train_test_split\n",
    "\n",
    "from sklearn.metrics import accuracy_score\n",
    "import time\n",
    "\n",
    "#library for regular expretion\n",
    "import re"
   ]
  },
  {
   "cell_type": "code",
   "execution_count": 65,
   "metadata": {},
   "outputs": [],
   "source": [
    "#Loading the data which is from Kaggle\n",
    "#This dataset contains four news class -b for business, e- entertainment, -t for technology and science, -m for medical\n",
    "data = pd.read_csv(\"first_batch.csv\",encoding='latin-1')"
   ]
  },
  {
   "cell_type": "code",
   "execution_count": 66,
   "metadata": {},
   "outputs": [
    {
     "data": {
      "text/html": [
       "<div>\n",
       "<style scoped>\n",
       "    .dataframe tbody tr th:only-of-type {\n",
       "        vertical-align: middle;\n",
       "    }\n",
       "\n",
       "    .dataframe tbody tr th {\n",
       "        vertical-align: top;\n",
       "    }\n",
       "\n",
       "    .dataframe thead th {\n",
       "        text-align: right;\n",
       "    }\n",
       "</style>\n",
       "<table border=\"1\" class=\"dataframe\">\n",
       "  <thead>\n",
       "    <tr style=\"text-align: right;\">\n",
       "      <th></th>\n",
       "      <th>Unnamed: 0</th>\n",
       "      <th>TITLE</th>\n",
       "      <th>URL</th>\n",
       "      <th>PUBLISHER</th>\n",
       "      <th>CATEGORY</th>\n",
       "      <th>STORY</th>\n",
       "      <th>HOSTNAME</th>\n",
       "      <th>TIMESTAMP</th>\n",
       "    </tr>\n",
       "  </thead>\n",
       "  <tbody>\n",
       "    <tr>\n",
       "      <th>60</th>\n",
       "      <td>60</td>\n",
       "      <td>GM recalls another 2.4M vehicles for belts, ba...</td>\n",
       "      <td>http://www.usatoday.com/story/money/cars/2014/...</td>\n",
       "      <td>USA TODAY</td>\n",
       "      <td>t</td>\n",
       "      <td>dlM9gF_cqok-hPMsoTxBgF_NUJ3PM</td>\n",
       "      <td>www.usatoday.com</td>\n",
       "      <td>1.400000e+12</td>\n",
       "    </tr>\n",
       "    <tr>\n",
       "      <th>61</th>\n",
       "      <td>61</td>\n",
       "      <td>Business update: Parade of GM recalls rolls on...</td>\n",
       "      <td>http://www.indeonline.com/article/20140520/NEW...</td>\n",
       "      <td>Massillon Independent</td>\n",
       "      <td>t</td>\n",
       "      <td>dlM9gF_cqok-hPMsoTxBgF_NUJ3PM</td>\n",
       "      <td>www.indeonline.com</td>\n",
       "      <td>1.400000e+12</td>\n",
       "    </tr>\n",
       "    <tr>\n",
       "      <th>62</th>\n",
       "      <td>62</td>\n",
       "      <td>GM keeps recalling vehicles</td>\n",
       "      <td>http://www.shanghaidaily.com/article/article_x...</td>\n",
       "      <td>Shanghai Daily \\(subscription\\)</td>\n",
       "      <td>t</td>\n",
       "      <td>dlM9gF_cqok-hPMsoTxBgF_NUJ3PM</td>\n",
       "      <td>www.shanghaidaily.com</td>\n",
       "      <td>1.400000e+12</td>\n",
       "    </tr>\n",
       "    <tr>\n",
       "      <th>63</th>\n",
       "      <td>63</td>\n",
       "      <td>More GM recalls</td>\n",
       "      <td>http://www.cbc.ca/news/business/new-gm-recall-...</td>\n",
       "      <td>CBC.ca</td>\n",
       "      <td>t</td>\n",
       "      <td>dlM9gF_cqok-hPMsoTxBgF_NUJ3PM</td>\n",
       "      <td>www.cbc.ca</td>\n",
       "      <td>1.400000e+12</td>\n",
       "    </tr>\n",
       "    <tr>\n",
       "      <th>64</th>\n",
       "      <td>64</td>\n",
       "      <td>10 largest GM recalls this year</td>\n",
       "      <td>http://thegardenisland.com/news/national/large...</td>\n",
       "      <td>Thegardenisland.com</td>\n",
       "      <td>t</td>\n",
       "      <td>dlM9gF_cqok-hPMsoTxBgF_NUJ3PM</td>\n",
       "      <td>thegardenisland.com</td>\n",
       "      <td>1.400000e+12</td>\n",
       "    </tr>\n",
       "  </tbody>\n",
       "</table>\n",
       "</div>"
      ],
      "text/plain": [
       "    Unnamed: 0                                              TITLE  \\\n",
       "60          60  GM recalls another 2.4M vehicles for belts, ba...   \n",
       "61          61  Business update: Parade of GM recalls rolls on...   \n",
       "62          62                        GM keeps recalling vehicles   \n",
       "63          63                                    More GM recalls   \n",
       "64          64                    10 largest GM recalls this year   \n",
       "\n",
       "                                                  URL  \\\n",
       "60  http://www.usatoday.com/story/money/cars/2014/...   \n",
       "61  http://www.indeonline.com/article/20140520/NEW...   \n",
       "62  http://www.shanghaidaily.com/article/article_x...   \n",
       "63  http://www.cbc.ca/news/business/new-gm-recall-...   \n",
       "64  http://thegardenisland.com/news/national/large...   \n",
       "\n",
       "                          PUBLISHER CATEGORY                          STORY  \\\n",
       "60                        USA TODAY        t  dlM9gF_cqok-hPMsoTxBgF_NUJ3PM   \n",
       "61            Massillon Independent        t  dlM9gF_cqok-hPMsoTxBgF_NUJ3PM   \n",
       "62  Shanghai Daily \\(subscription\\)        t  dlM9gF_cqok-hPMsoTxBgF_NUJ3PM   \n",
       "63                           CBC.ca        t  dlM9gF_cqok-hPMsoTxBgF_NUJ3PM   \n",
       "64              Thegardenisland.com        t  dlM9gF_cqok-hPMsoTxBgF_NUJ3PM   \n",
       "\n",
       "                 HOSTNAME     TIMESTAMP  \n",
       "60       www.usatoday.com  1.400000e+12  \n",
       "61     www.indeonline.com  1.400000e+12  \n",
       "62  www.shanghaidaily.com  1.400000e+12  \n",
       "63             www.cbc.ca  1.400000e+12  \n",
       "64    thegardenisland.com  1.400000e+12  "
      ]
     },
     "execution_count": 66,
     "metadata": {},
     "output_type": "execute_result"
    }
   ],
   "source": [
    "data.tail()"
   ]
  },
  {
   "cell_type": "code",
   "execution_count": 67,
   "metadata": {},
   "outputs": [
    {
     "data": {
      "text/html": [
       "<div>\n",
       "<style scoped>\n",
       "    .dataframe tbody tr th:only-of-type {\n",
       "        vertical-align: middle;\n",
       "    }\n",
       "\n",
       "    .dataframe tbody tr th {\n",
       "        vertical-align: top;\n",
       "    }\n",
       "\n",
       "    .dataframe thead th {\n",
       "        text-align: right;\n",
       "    }\n",
       "</style>\n",
       "<table border=\"1\" class=\"dataframe\">\n",
       "  <thead>\n",
       "    <tr style=\"text-align: right;\">\n",
       "      <th></th>\n",
       "      <th>Unnamed: 0</th>\n",
       "      <th>TITLE</th>\n",
       "      <th>URL</th>\n",
       "      <th>PUBLISHER</th>\n",
       "      <th>CATEGORY</th>\n",
       "      <th>STORY</th>\n",
       "      <th>HOSTNAME</th>\n",
       "      <th>TIMESTAMP</th>\n",
       "    </tr>\n",
       "  </thead>\n",
       "  <tbody>\n",
       "    <tr>\n",
       "      <th>60</th>\n",
       "      <td>60</td>\n",
       "      <td>GM recalls another 2.4M vehicles for belts, ba...</td>\n",
       "      <td>http://www.usatoday.com/story/money/cars/2014/...</td>\n",
       "      <td>USA TODAY</td>\n",
       "      <td>t</td>\n",
       "      <td>dlM9gF_cqok-hPMsoTxBgF_NUJ3PM</td>\n",
       "      <td>www.usatoday.com</td>\n",
       "      <td>1.400000e+12</td>\n",
       "    </tr>\n",
       "    <tr>\n",
       "      <th>61</th>\n",
       "      <td>61</td>\n",
       "      <td>Business update: Parade of GM recalls rolls on...</td>\n",
       "      <td>http://www.indeonline.com/article/20140520/NEW...</td>\n",
       "      <td>Massillon Independent</td>\n",
       "      <td>t</td>\n",
       "      <td>dlM9gF_cqok-hPMsoTxBgF_NUJ3PM</td>\n",
       "      <td>www.indeonline.com</td>\n",
       "      <td>1.400000e+12</td>\n",
       "    </tr>\n",
       "    <tr>\n",
       "      <th>62</th>\n",
       "      <td>62</td>\n",
       "      <td>GM keeps recalling vehicles</td>\n",
       "      <td>http://www.shanghaidaily.com/article/article_x...</td>\n",
       "      <td>Shanghai Daily \\(subscription\\)</td>\n",
       "      <td>t</td>\n",
       "      <td>dlM9gF_cqok-hPMsoTxBgF_NUJ3PM</td>\n",
       "      <td>www.shanghaidaily.com</td>\n",
       "      <td>1.400000e+12</td>\n",
       "    </tr>\n",
       "    <tr>\n",
       "      <th>63</th>\n",
       "      <td>63</td>\n",
       "      <td>More GM recalls</td>\n",
       "      <td>http://www.cbc.ca/news/business/new-gm-recall-...</td>\n",
       "      <td>CBC.ca</td>\n",
       "      <td>t</td>\n",
       "      <td>dlM9gF_cqok-hPMsoTxBgF_NUJ3PM</td>\n",
       "      <td>www.cbc.ca</td>\n",
       "      <td>1.400000e+12</td>\n",
       "    </tr>\n",
       "    <tr>\n",
       "      <th>64</th>\n",
       "      <td>64</td>\n",
       "      <td>10 largest GM recalls this year</td>\n",
       "      <td>http://thegardenisland.com/news/national/large...</td>\n",
       "      <td>Thegardenisland.com</td>\n",
       "      <td>t</td>\n",
       "      <td>dlM9gF_cqok-hPMsoTxBgF_NUJ3PM</td>\n",
       "      <td>thegardenisland.com</td>\n",
       "      <td>1.400000e+12</td>\n",
       "    </tr>\n",
       "  </tbody>\n",
       "</table>\n",
       "</div>"
      ],
      "text/plain": [
       "    Unnamed: 0                                              TITLE  \\\n",
       "60          60  GM recalls another 2.4M vehicles for belts, ba...   \n",
       "61          61  Business update: Parade of GM recalls rolls on...   \n",
       "62          62                        GM keeps recalling vehicles   \n",
       "63          63                                    More GM recalls   \n",
       "64          64                    10 largest GM recalls this year   \n",
       "\n",
       "                                                  URL  \\\n",
       "60  http://www.usatoday.com/story/money/cars/2014/...   \n",
       "61  http://www.indeonline.com/article/20140520/NEW...   \n",
       "62  http://www.shanghaidaily.com/article/article_x...   \n",
       "63  http://www.cbc.ca/news/business/new-gm-recall-...   \n",
       "64  http://thegardenisland.com/news/national/large...   \n",
       "\n",
       "                          PUBLISHER CATEGORY                          STORY  \\\n",
       "60                        USA TODAY        t  dlM9gF_cqok-hPMsoTxBgF_NUJ3PM   \n",
       "61            Massillon Independent        t  dlM9gF_cqok-hPMsoTxBgF_NUJ3PM   \n",
       "62  Shanghai Daily \\(subscription\\)        t  dlM9gF_cqok-hPMsoTxBgF_NUJ3PM   \n",
       "63                           CBC.ca        t  dlM9gF_cqok-hPMsoTxBgF_NUJ3PM   \n",
       "64              Thegardenisland.com        t  dlM9gF_cqok-hPMsoTxBgF_NUJ3PM   \n",
       "\n",
       "                 HOSTNAME     TIMESTAMP  \n",
       "60       www.usatoday.com  1.400000e+12  \n",
       "61     www.indeonline.com  1.400000e+12  \n",
       "62  www.shanghaidaily.com  1.400000e+12  \n",
       "63             www.cbc.ca  1.400000e+12  \n",
       "64    thegardenisland.com  1.400000e+12  "
      ]
     },
     "execution_count": 67,
     "metadata": {},
     "output_type": "execute_result"
    }
   ],
   "source": [
    "data['TITLE'].replace('', np.nan, inplace=True)\n",
    "data.tail()"
   ]
  },
  {
   "cell_type": "code",
   "execution_count": 68,
   "metadata": {},
   "outputs": [],
   "source": [
    "#data.dropna(subset=['TITLE'], inplace=True)\n",
    "#data.tail()"
   ]
  },
  {
   "cell_type": "code",
   "execution_count": 69,
   "metadata": {},
   "outputs": [],
   "source": [
    "data = data[['TITLE','CATEGORY']]"
   ]
  },
  {
   "cell_type": "code",
   "execution_count": 70,
   "metadata": {},
   "outputs": [
    {
     "data": {
      "text/plain": [
       "array(['b', 'e', 't'], dtype=object)"
      ]
     },
     "execution_count": 70,
     "metadata": {},
     "output_type": "execute_result"
    }
   ],
   "source": [
    "\n",
    "#Printing all different types of categories\n",
    "data.CATEGORY.unique()"
   ]
  },
  {
   "cell_type": "code",
   "execution_count": 71,
   "metadata": {},
   "outputs": [
    {
     "data": {
      "text/html": [
       "<div>\n",
       "<style scoped>\n",
       "    .dataframe tbody tr th:only-of-type {\n",
       "        vertical-align: middle;\n",
       "    }\n",
       "\n",
       "    .dataframe tbody tr th {\n",
       "        vertical-align: top;\n",
       "    }\n",
       "\n",
       "    .dataframe thead th {\n",
       "        text-align: right;\n",
       "    }\n",
       "</style>\n",
       "<table border=\"1\" class=\"dataframe\">\n",
       "  <thead>\n",
       "    <tr style=\"text-align: right;\">\n",
       "      <th></th>\n",
       "      <th>TITLE</th>\n",
       "      <th>CATEGORY</th>\n",
       "      <th>NUM_CATEGORY</th>\n",
       "    </tr>\n",
       "  </thead>\n",
       "  <tbody>\n",
       "    <tr>\n",
       "      <th>0</th>\n",
       "      <td>Fed official says weak data caused by weather,...</td>\n",
       "      <td>b</td>\n",
       "      <td>0</td>\n",
       "    </tr>\n",
       "    <tr>\n",
       "      <th>1</th>\n",
       "      <td>Fed's Charles Plosser sees high bar for change...</td>\n",
       "      <td>b</td>\n",
       "      <td>0</td>\n",
       "    </tr>\n",
       "    <tr>\n",
       "      <th>2</th>\n",
       "      <td>US open: Stocks fall after Fed official hints ...</td>\n",
       "      <td>b</td>\n",
       "      <td>0</td>\n",
       "    </tr>\n",
       "    <tr>\n",
       "      <th>3</th>\n",
       "      <td>Fed risks falling 'behind the curve', Charles ...</td>\n",
       "      <td>b</td>\n",
       "      <td>0</td>\n",
       "    </tr>\n",
       "    <tr>\n",
       "      <th>4</th>\n",
       "      <td>Fed's Plosser: Nasty Weather Has Curbed Job Gr...</td>\n",
       "      <td>b</td>\n",
       "      <td>0</td>\n",
       "    </tr>\n",
       "  </tbody>\n",
       "</table>\n",
       "</div>"
      ],
      "text/plain": [
       "                                               TITLE CATEGORY  NUM_CATEGORY\n",
       "0  Fed official says weak data caused by weather,...        b             0\n",
       "1  Fed's Charles Plosser sees high bar for change...        b             0\n",
       "2  US open: Stocks fall after Fed official hints ...        b             0\n",
       "3  Fed risks falling 'behind the curve', Charles ...        b             0\n",
       "4  Fed's Plosser: Nasty Weather Has Curbed Job Gr...        b             0"
      ]
     },
     "execution_count": 71,
     "metadata": {},
     "output_type": "execute_result"
    }
   ],
   "source": [
    "#converting category column into numeric target NUM_CATEGORY column\n",
    "data['NUM_CATEGORY']=data.CATEGORY.map({'b':0,'e':1,'t':2})\n",
    "data.head()\n"
   ]
  },
  {
   "cell_type": "code",
   "execution_count": 72,
   "metadata": {},
   "outputs": [],
   "source": [
    "#Splitting dataset into 60% training set and 40% test set\n",
    "x_train, x_test, y_train, y_test = train_test_split(data.TITLE, data.NUM_CATEGORY, random_state=50)"
   ]
  },
  {
   "cell_type": "code",
   "execution_count": 73,
   "metadata": {},
   "outputs": [],
   "source": [
    "#Here we convert our dataset into a Bag Of Word model using a Bigram model\n",
    "\n",
    "\n",
    "vect = CountVectorizer(ngram_range=(2,2))\n",
    "#converting traning features into numeric vector\n",
    "X_train = vect.fit_transform(x_train)\n",
    "#converting training labels into numeric vector\n",
    "X_test = vect.transform(x_test)\n",
    "\n",
    "\n",
    "\n"
   ]
  },
  {
   "cell_type": "code",
   "execution_count": 74,
   "metadata": {},
   "outputs": [
    {
     "name": "stdout",
     "output_type": "stream",
     "text": [
      "[1 2 0 2 2 2 2 1 2 1 0 2 2 1 1 1 1]\n"
     ]
    }
   ],
   "source": [
    "#Training and Predicting the data\n",
    "mnb = MultinomialNB(alpha =0.2)\n",
    "\n",
    "mnb.fit(X_train,y_train)\n",
    "\n",
    "result= mnb.predict(X_test)\n",
    "print(result)\n",
    "\n"
   ]
  },
  {
   "cell_type": "code",
   "execution_count": 75,
   "metadata": {},
   "outputs": [
    {
     "data": {
      "text/plain": [
       "0.9411764705882353"
      ]
     },
     "execution_count": 75,
     "metadata": {},
     "output_type": "execute_result"
    }
   ],
   "source": [
    "#Printing accuracy of the our model\n",
    "accuracy_score(result,y_test)\n"
   ]
  },
  {
   "cell_type": "code",
   "execution_count": 76,
   "metadata": {},
   "outputs": [],
   "source": [
    "#This function return the class of the input news\n",
    "def predict_news(news):\n",
    "    test = vect.transform(news)\n",
    "    pred= mnb.predict(test)\n",
    "    if pred  == 0:\n",
    "         return 'Business or Politics'\n",
    "    elif pred == 1:\n",
    "        return 'Entertainment'\n",
    "    elif pred == 2:\n",
    "        return 'Technology'\n",
    "    else:\n",
    "        return 'no class found'\n",
    "    \n",
    "    \n"
   ]
  },
  {
   "cell_type": "markdown",
   "metadata": {},
   "source": [
    "# Checking the model on Unseen data"
   ]
  },
  {
   "cell_type": "code",
   "execution_count": 77,
   "metadata": {},
   "outputs": [
    {
     "name": "stdout",
     "output_type": "stream",
     "text": [
      "Entertainment\n"
     ]
    }
   ],
   "source": [
    "##Copy and paste the news headline in 'x'\n",
    "x=[\"Nifty IT index down nearly 3% on Infosys weak guidance\"]\n",
    "r = predict_news(x)\n",
    "print (r)"
   ]
  },
  {
   "cell_type": "code",
   "execution_count": 78,
   "metadata": {},
   "outputs": [
    {
     "data": {
      "text/plain": [
       "array([[2, 0, 0],\n",
       "       [0, 6, 0],\n",
       "       [0, 1, 8]], dtype=int64)"
      ]
     },
     "execution_count": 78,
     "metadata": {},
     "output_type": "execute_result"
    }
   ],
   "source": [
    "#Printing the confusion matrix of our prediction\n",
    "from sklearn.metrics import confusion_matrix\n",
    "\n",
    "confusion_matrix(y_test, result)"
   ]
  },
  {
   "cell_type": "code",
   "execution_count": null,
   "metadata": {},
   "outputs": [],
   "source": []
  }
 ],
 "metadata": {
  "anaconda-cloud": {},
  "kernelspec": {
   "display_name": "Python 3",
   "language": "python",
   "name": "python3"
  },
  "language_info": {
   "codemirror_mode": {
    "name": "ipython",
    "version": 3
   },
   "file_extension": ".py",
   "mimetype": "text/x-python",
   "name": "python",
   "nbconvert_exporter": "python",
   "pygments_lexer": "ipython3",
   "version": "3.6.8"
  }
 },
 "nbformat": 4,
 "nbformat_minor": 2
}
